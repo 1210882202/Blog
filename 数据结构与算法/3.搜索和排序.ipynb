{
 "cells": [
  {
   "cell_type": "markdown",
   "id": "17b14546",
   "metadata": {},
   "source": [
    "### 3.1.1 顺序搜索"
   ]
  },
  {
   "cell_type": "code",
   "execution_count": 1,
   "id": "3cf017b8",
   "metadata": {},
   "outputs": [],
   "source": [
    "def sequentialSearch(alist, item):\n",
    "    pos = 0\n",
    "    found = False\n",
    "    \n",
    "    while pos < len(alist) and not found:\n",
    "        if alist[pos] == item:\n",
    "            found = True\n",
    "        else:\n",
    "            pos += 1\n",
    "    \n",
    "    return found"
   ]
  },
  {
   "cell_type": "code",
   "execution_count": 2,
   "id": "29118d0b",
   "metadata": {},
   "outputs": [],
   "source": [
    "def orderedSequentialSearch(alist, item):\n",
    "    pos = 0\n",
    "    found = False\n",
    "    stop = False\n",
    "    while pos < len(alist) and not found and not stop:\n",
    "        if alist[pos] == item:\n",
    "            found = True\n",
    "        else:\n",
    "            if alist[pos] > item:\n",
    "                stop = True\n",
    "            else:\n",
    "                pos += 1\n",
    "    \n",
    "    return found"
   ]
  },
  {
   "cell_type": "markdown",
   "id": "8bd47d8a",
   "metadata": {},
   "source": [
    "### 3.1.2 二分搜索"
   ]
  },
  {
   "cell_type": "code",
   "execution_count": 3,
   "id": "f7898169",
   "metadata": {},
   "outputs": [],
   "source": [
    "def binarySearch(alist, item):\n",
    "    first = 0\n",
    "    last = len(alist) - 1\n",
    "    found = False\n",
    "    \n",
    "    while first <= last and not found:\n",
    "        midpoint = (first + last) // 2\n",
    "        if alist[midpoint] == item:\n",
    "            found = True\n",
    "        else:\n",
    "            if item < alist[midpoint]:\n",
    "                last = midpoint - 1\n",
    "            else:\n",
    "                first = midpoint + 1\n",
    "    \n",
    "    return found"
   ]
  },
  {
   "cell_type": "code",
   "execution_count": 4,
   "id": "cfab0a13",
   "metadata": {},
   "outputs": [],
   "source": [
    "def binarySearch(alist, item):\n",
    "    if len(alist) == 0:\n",
    "        return False\n",
    "    else:\n",
    "        midpoint = len(alist) // 2\n",
    "        if alist[midpoint] == item:\n",
    "            return True\n",
    "        else:\n",
    "            if item < alist[midpoint]:\n",
    "                return binarySearch(alist[:midpoint], item)\n",
    "            else:\n",
    "                return binarySearch(alist[midpoint+1:], item)"
   ]
  },
  {
   "cell_type": "markdown",
   "id": "9fdeb7c6",
   "metadata": {},
   "source": [
    "### 3.2.1 冒泡排序"
   ]
  },
  {
   "cell_type": "code",
   "execution_count": 5,
   "id": "804f2eb6",
   "metadata": {},
   "outputs": [],
   "source": [
    "def bubbleSort(alist):\n",
    "    for passnum in range(len(alist)-1, 0, -1):\n",
    "        for i in range(passnum):\n",
    "            if alist[i] > alist[i+1]:\n",
    "                temp = alist[i]\n",
    "                alist[i] = alist[i+1]\n",
    "                alist[i+1] = temp"
   ]
  },
  {
   "cell_type": "code",
   "execution_count": 6,
   "id": "27fa94f2",
   "metadata": {},
   "outputs": [],
   "source": [
    "def bubbleSort(alist):\n",
    "    exchanges = True\n",
    "    passnum = len(alist)-1\n",
    "    while passnum > 0 and exchanges:\n",
    "        exchanges = False\n",
    "        for i in range(passnum):\n",
    "            if alist[i] > alist[i+1]:\n",
    "                exchanges = True\n",
    "                temp = alist[i]\n",
    "                alist[i] = alist[i+1]\n",
    "                alist[i+1] = temp\n",
    "        passnum -= 1"
   ]
  },
  {
   "cell_type": "markdown",
   "id": "cb1b087a",
   "metadata": {},
   "source": [
    "### 3.2.2 选择排序"
   ]
  },
  {
   "cell_type": "code",
   "execution_count": 7,
   "id": "0358adcf",
   "metadata": {},
   "outputs": [],
   "source": [
    "def selectionSort(alist):\n",
    "    for fillslot in range(len(alist)-1, 0, -1):\n",
    "        positionOfMax = 0\n",
    "        for location in range(1, fillslot+1):\n",
    "            if alist[location] > alist[positionOfMax]:\n",
    "                positionOfMax = location\n",
    "        \n",
    "        temp = alist[fillslot]\n",
    "        alist[fillslot] = alist[positionOfMax]\n",
    "        alist[positionOfMax] = temp"
   ]
  },
  {
   "cell_type": "markdown",
   "id": "f8e9dfb9",
   "metadata": {},
   "source": [
    "### 3.2.3 插入排序"
   ]
  },
  {
   "cell_type": "code",
   "execution_count": 8,
   "id": "f02ff7ac",
   "metadata": {},
   "outputs": [],
   "source": [
    "def insertionSort(alist):\n",
    "    for index in range(1, len(alist)):\n",
    "        \n",
    "        currentvalue = alist[index]\n",
    "        position = index\n",
    "        \n",
    "        while position > 0 and alist[position-1] > currentvalue:\n",
    "            alist[position] = alist[position-1]\n",
    "            position -= 1\n",
    "        \n",
    "        alist[position] = currentvalue"
   ]
  },
  {
   "cell_type": "markdown",
   "id": "c68b294b",
   "metadata": {},
   "source": [
    "### 3.2.4 希尔排序"
   ]
  },
  {
   "cell_type": "code",
   "execution_count": 9,
   "id": "1fc1445b",
   "metadata": {},
   "outputs": [],
   "source": [
    "def shellSort(alist):\n",
    "    sublistcount = len(alist) // 2\n",
    "    while sublistcount > 0:\n",
    "        \n",
    "        for startposition in range(sublistcount):\n",
    "            gapInsertionSort(alist, startposition, sublistcount)\n",
    "            \n",
    "        print(f'after increments of size {sublistcount}, the list is {alist}')\n",
    "            \n",
    "        sublistcount = sublistcount // 2\n",
    "\n",
    "def gapInsertionSort(alist, start, gap):\n",
    "    for i in range(start+gap, len(alist), gap):\n",
    "\n",
    "        currentvalue = alist[i]\n",
    "        position = i\n",
    "\n",
    "        while position >= gap and alist[position-gap] > currentvalue:\n",
    "            alist[position] = alist[position-gap]\n",
    "            position -= gap\n",
    "\n",
    "        alist[position] = currentvalue"
   ]
  },
  {
   "cell_type": "code",
   "execution_count": 10,
   "id": "fa496696",
   "metadata": {},
   "outputs": [
    {
     "name": "stdout",
     "output_type": "stream",
     "text": [
      "after increments of size 4, the list is [20, 26, 44, 17, 54, 31, 93, 55, 77]\n",
      "after increments of size 2, the list is [20, 17, 44, 26, 54, 31, 77, 55, 93]\n",
      "after increments of size 1, the list is [17, 20, 26, 31, 44, 54, 55, 77, 93]\n"
     ]
    }
   ],
   "source": [
    "alist = [54, 26, 93, 17, 77, 31, 44, 55, 20]\n",
    "shellSort(alist)"
   ]
  },
  {
   "cell_type": "markdown",
   "id": "cff68358",
   "metadata": {},
   "source": [
    "### 3.2.5 归并排序"
   ]
  },
  {
   "cell_type": "code",
   "execution_count": 11,
   "id": "b8fca337",
   "metadata": {},
   "outputs": [],
   "source": [
    "def mergeSort(alist):\n",
    "    print(f'Splitting {alist}')\n",
    "    if len(alist) > 1:\n",
    "        mid = len(alist) // 2\n",
    "        lefthalf = alist[:mid]\n",
    "        righthalf = alist[mid:]\n",
    "\n",
    "        mergeSort(lefthalf)\n",
    "        mergeSort(righthalf)\n",
    "\n",
    "        i=0\n",
    "        j=0\n",
    "        k=0\n",
    "        while i < len(lefthalf) and j < len(righthalf):\n",
    "            if lefthalf[i] <= righthalf[j]:\n",
    "                alist[k] = lefthalf[i]\n",
    "                i = i+1\n",
    "            else:\n",
    "                alist[k] = righthalf[j]\n",
    "                j = j+1\n",
    "            k=k+1\n",
    "\n",
    "        while i < len(lefthalf):\n",
    "            alist[k] = lefthalf[i]\n",
    "            i = i+1\n",
    "            k = k+1\n",
    "\n",
    "        while j < len(righthalf):\n",
    "            alist[k] = righthalf[j]\n",
    "            j = j+1\n",
    "            k = k+1\n",
    "    print(f'Merging {alist}')"
   ]
  },
  {
   "cell_type": "code",
   "execution_count": 12,
   "id": "76ba0ec4",
   "metadata": {},
   "outputs": [
    {
     "name": "stdout",
     "output_type": "stream",
     "text": [
      "Splitting [54, 26, 93, 17, 77, 31, 44, 55, 20]\n",
      "Splitting [54, 26, 93, 17]\n",
      "Splitting [54, 26]\n",
      "Splitting [54]\n",
      "Merging [54]\n",
      "Splitting [26]\n",
      "Merging [26]\n",
      "Merging [26, 54]\n",
      "Splitting [93, 17]\n",
      "Splitting [93]\n",
      "Merging [93]\n",
      "Splitting [17]\n",
      "Merging [17]\n",
      "Merging [17, 93]\n",
      "Merging [17, 26, 54, 93]\n",
      "Splitting [77, 31, 44, 55, 20]\n",
      "Splitting [77, 31]\n",
      "Splitting [77]\n",
      "Merging [77]\n",
      "Splitting [31]\n",
      "Merging [31]\n",
      "Merging [31, 77]\n",
      "Splitting [44, 55, 20]\n",
      "Splitting [44]\n",
      "Merging [44]\n",
      "Splitting [55, 20]\n",
      "Splitting [55]\n",
      "Merging [55]\n",
      "Splitting [20]\n",
      "Merging [20]\n",
      "Merging [20, 55]\n",
      "Merging [20, 44, 55]\n",
      "Merging [20, 31, 44, 55, 77]\n",
      "Merging [17, 20, 26, 31, 44, 54, 55, 77, 93]\n"
     ]
    }
   ],
   "source": [
    "alist = [54, 26, 93, 17, 77, 31, 44, 55, 20]\n",
    "mergeSort(alist)"
   ]
  },
  {
   "cell_type": "markdown",
   "id": "882dc507",
   "metadata": {},
   "source": [
    "### 3.2.6 快速排序"
   ]
  },
  {
   "cell_type": "code",
   "execution_count": 13,
   "id": "8831960e",
   "metadata": {},
   "outputs": [],
   "source": [
    "def quickSort(alist):\n",
    "    quickSortHelper(alist, 0, len(alist)-1)\n",
    "\n",
    "def quickSortHelper(alist, first, last):\n",
    "    if first < last:\n",
    "        \n",
    "        splitpoint = partition(alist, first, last)\n",
    "        \n",
    "        quickSortHelper(alist, first, splitpoint-1)\n",
    "        quickSortHelper(alist, splitpoint+1, last)\n",
    "\n",
    "\n",
    "def partition(alist, first, last):\n",
    "    pivotvalue = alist[first]\n",
    "    \n",
    "    leftmark = first+1\n",
    "    rightmark = last\n",
    "    \n",
    "    done = False\n",
    "    while not done:\n",
    "        \n",
    "        while leftmark <= rightmark and alist[leftmark] <= pivotvalue:\n",
    "            leftmark += 1\n",
    "\n",
    "        while alist[rightmark] >= pivotvalue and rightmark >= leftmark:\n",
    "            rightmark -= 1\n",
    "\n",
    "        if rightmark < leftmark:\n",
    "            done = True\n",
    "        else:\n",
    "            temp = alist[leftmark]\n",
    "            alist[leftmark] = alist[rightmark]\n",
    "            alist[rightmark] = temp\n",
    "\n",
    "    temp = alist[first]\n",
    "    alist[first] = alist[rightmark]\n",
    "    alist[rightmark] = temp\n",
    "\n",
    "    return rightmark"
   ]
  },
  {
   "cell_type": "code",
   "execution_count": null,
   "id": "4b4938dd",
   "metadata": {},
   "outputs": [],
   "source": []
  }
 ],
 "metadata": {
  "kernelspec": {
   "display_name": "Python 3 (ipykernel)",
   "language": "python",
   "name": "python3"
  },
  "language_info": {
   "codemirror_mode": {
    "name": "ipython",
    "version": 3
   },
   "file_extension": ".py",
   "mimetype": "text/x-python",
   "name": "python",
   "nbconvert_exporter": "python",
   "pygments_lexer": "ipython3",
   "version": "3.8.9"
  }
 },
 "nbformat": 4,
 "nbformat_minor": 5
}
