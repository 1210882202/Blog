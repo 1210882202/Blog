{
 "cells": [
  {
   "cell_type": "markdown",
   "id": "b3c362bd",
   "metadata": {},
   "source": [
    "### 1.1.3 用Python实现栈"
   ]
  },
  {
   "cell_type": "code",
   "execution_count": 1,
   "id": "3180b201",
   "metadata": {},
   "outputs": [],
   "source": [
    "class Stack:\n",
    "    def __init__(self):\n",
    "        self.items = []\n",
    "    \n",
    "    def isEmpty(self):\n",
    "        return self.items == []\n",
    "    \n",
    "    def push(self, item):\n",
    "        return self.items.append(item)\n",
    "    \n",
    "    def pop(self):\n",
    "        return self.items.pop()\n",
    "    \n",
    "    def peek(self):\n",
    "        return self.items[-1]\n",
    "    \n",
    "    def size(self):\n",
    "        return len(self.items)"
   ]
  },
  {
   "cell_type": "code",
   "execution_count": 2,
   "id": "eb8df61d",
   "metadata": {},
   "outputs": [],
   "source": [
    "s = Stack() # 栈内容：[]"
   ]
  },
  {
   "cell_type": "code",
   "execution_count": 3,
   "id": "b1b5046a",
   "metadata": {},
   "outputs": [
    {
     "data": {
      "text/plain": [
       "True"
      ]
     },
     "execution_count": 3,
     "metadata": {},
     "output_type": "execute_result"
    }
   ],
   "source": [
    "s.isEmpty() # 栈内容：[]"
   ]
  },
  {
   "cell_type": "code",
   "execution_count": 4,
   "id": "de15ed1d",
   "metadata": {},
   "outputs": [],
   "source": [
    "s.push(4) # 栈内容：[4]"
   ]
  },
  {
   "cell_type": "code",
   "execution_count": 5,
   "id": "3240769f",
   "metadata": {},
   "outputs": [],
   "source": [
    "s.push('dog') # 栈内容：[4, 'dog']"
   ]
  },
  {
   "cell_type": "code",
   "execution_count": 6,
   "id": "765b8ad4",
   "metadata": {},
   "outputs": [
    {
     "data": {
      "text/plain": [
       "'dog'"
      ]
     },
     "execution_count": 6,
     "metadata": {},
     "output_type": "execute_result"
    }
   ],
   "source": [
    "s.peek() # 栈内容：[4, 'dog']"
   ]
  },
  {
   "cell_type": "code",
   "execution_count": 7,
   "id": "048e7c88",
   "metadata": {},
   "outputs": [],
   "source": [
    "s.push(True) # 栈内容：[4, 'dog', True]"
   ]
  },
  {
   "cell_type": "code",
   "execution_count": 8,
   "id": "be73f30b",
   "metadata": {},
   "outputs": [
    {
     "data": {
      "text/plain": [
       "3"
      ]
     },
     "execution_count": 8,
     "metadata": {},
     "output_type": "execute_result"
    }
   ],
   "source": [
    "s.size() # 栈内容：[4, 'dog', True]"
   ]
  },
  {
   "cell_type": "code",
   "execution_count": 9,
   "id": "924b2d96",
   "metadata": {},
   "outputs": [
    {
     "data": {
      "text/plain": [
       "False"
      ]
     },
     "execution_count": 9,
     "metadata": {},
     "output_type": "execute_result"
    }
   ],
   "source": [
    "s.isEmpty() # 栈内容：[4, 'dog', True]"
   ]
  },
  {
   "cell_type": "code",
   "execution_count": 10,
   "id": "5b74c878",
   "metadata": {},
   "outputs": [],
   "source": [
    "s.push(8.4) # 栈内容：[4, 'dog', True, 8.4]"
   ]
  },
  {
   "cell_type": "code",
   "execution_count": 11,
   "id": "ab2f6d9f",
   "metadata": {},
   "outputs": [
    {
     "data": {
      "text/plain": [
       "8.4"
      ]
     },
     "execution_count": 11,
     "metadata": {},
     "output_type": "execute_result"
    }
   ],
   "source": [
    "s.pop() # 栈内容：[4, 'dog', True]"
   ]
  },
  {
   "cell_type": "code",
   "execution_count": 12,
   "id": "5f0c6eea",
   "metadata": {},
   "outputs": [
    {
     "data": {
      "text/plain": [
       "True"
      ]
     },
     "execution_count": 12,
     "metadata": {},
     "output_type": "execute_result"
    }
   ],
   "source": [
    "s.pop() # 栈内容：[4, 'dog']"
   ]
  },
  {
   "cell_type": "code",
   "execution_count": 13,
   "id": "1a5977b5",
   "metadata": {},
   "outputs": [
    {
     "data": {
      "text/plain": [
       "2"
      ]
     },
     "execution_count": 13,
     "metadata": {},
     "output_type": "execute_result"
    }
   ],
   "source": [
    "s.size() # 栈内容：[4, 'dog']"
   ]
  },
  {
   "cell_type": "markdown",
   "id": "133b9309",
   "metadata": {},
   "source": [
    "### 1.1.4 匹配括号"
   ]
  },
  {
   "cell_type": "code",
   "execution_count": 14,
   "id": "227363e2",
   "metadata": {},
   "outputs": [],
   "source": [
    "def parChecker(symbolString):\n",
    "    s = Stack()\n",
    "    balanced = True\n",
    "    index = 0\n",
    "    while index < len(symbolString) and balanced:\n",
    "        symbol = symbolString[index]\n",
    "        if symbol == '(':\n",
    "            s.push(symbol)\n",
    "        else:\n",
    "            if s.isEmpty():\n",
    "                balanced = False\n",
    "            else:\n",
    "                s.pop()\n",
    "        \n",
    "        index += 1\n",
    "    \n",
    "    if balanced and s.isEmpty():\n",
    "        return True\n",
    "    else:\n",
    "        return False"
   ]
  },
  {
   "cell_type": "code",
   "execution_count": 15,
   "id": "6efec5bb",
   "metadata": {},
   "outputs": [
    {
     "data": {
      "text/plain": [
       "True"
      ]
     },
     "execution_count": 15,
     "metadata": {},
     "output_type": "execute_result"
    }
   ],
   "source": [
    "parChecker('(()()())')"
   ]
  },
  {
   "cell_type": "code",
   "execution_count": 16,
   "id": "ed29ac03",
   "metadata": {},
   "outputs": [
    {
     "data": {
      "text/plain": [
       "True"
      ]
     },
     "execution_count": 16,
     "metadata": {},
     "output_type": "execute_result"
    }
   ],
   "source": [
    "parChecker('(((())))')"
   ]
  },
  {
   "cell_type": "code",
   "execution_count": 17,
   "id": "31159acb",
   "metadata": {},
   "outputs": [
    {
     "data": {
      "text/plain": [
       "True"
      ]
     },
     "execution_count": 17,
     "metadata": {},
     "output_type": "execute_result"
    }
   ],
   "source": [
    "parChecker('(()((())()))')"
   ]
  },
  {
   "cell_type": "code",
   "execution_count": 18,
   "id": "8b14083f",
   "metadata": {},
   "outputs": [
    {
     "data": {
      "text/plain": [
       "False"
      ]
     },
     "execution_count": 18,
     "metadata": {},
     "output_type": "execute_result"
    }
   ],
   "source": [
    "parChecker('((((((())')"
   ]
  },
  {
   "cell_type": "code",
   "execution_count": 19,
   "id": "9f5da405",
   "metadata": {},
   "outputs": [
    {
     "data": {
      "text/plain": [
       "False"
      ]
     },
     "execution_count": 19,
     "metadata": {},
     "output_type": "execute_result"
    }
   ],
   "source": [
    "parChecker('()))')"
   ]
  },
  {
   "cell_type": "code",
   "execution_count": 20,
   "id": "cf9301cf",
   "metadata": {},
   "outputs": [
    {
     "data": {
      "text/plain": [
       "False"
      ]
     },
     "execution_count": 20,
     "metadata": {},
     "output_type": "execute_result"
    }
   ],
   "source": [
    "parChecker('(()()(()')"
   ]
  },
  {
   "cell_type": "markdown",
   "id": "a2aafa29",
   "metadata": {},
   "source": [
    "### 1.1.5 普通情况：匹配符号"
   ]
  },
  {
   "cell_type": "code",
   "execution_count": 21,
   "id": "1382e908",
   "metadata": {},
   "outputs": [],
   "source": [
    "def parChecker(symbolString):\n",
    "    s = Stack()\n",
    "    \n",
    "    balanced = True\n",
    "    index = 0\n",
    "    \n",
    "    while index < len(symbolString) and balanced:\n",
    "        symbol = symbolString[index]\n",
    "        if symbol in '([{':\n",
    "            s.push(symbol)\n",
    "        else:\n",
    "            if s.isEmpty():\n",
    "                balanced = False\n",
    "            else:\n",
    "                top = s.pop()\n",
    "                if not matches(top, symbol):\n",
    "                    balanced = False\n",
    "        \n",
    "        index += 1\n",
    "    \n",
    "    if balanced and s.isEmpty():\n",
    "        return True\n",
    "    else:\n",
    "        return False\n",
    "\n",
    "def matches(left, right):\n",
    "    lefts = '([{'\n",
    "    rights = ')]}'\n",
    "    \n",
    "    return lefts.index(left) == rights.index(right)"
   ]
  },
  {
   "cell_type": "code",
   "execution_count": 22,
   "id": "44cf2de9",
   "metadata": {},
   "outputs": [
    {
     "data": {
      "text/plain": [
       "True"
      ]
     },
     "execution_count": 22,
     "metadata": {},
     "output_type": "execute_result"
    }
   ],
   "source": [
    "parChecker('{{([][])}()}')"
   ]
  },
  {
   "cell_type": "code",
   "execution_count": 23,
   "id": "e077e0c0",
   "metadata": {},
   "outputs": [
    {
     "data": {
      "text/plain": [
       "True"
      ]
     },
     "execution_count": 23,
     "metadata": {},
     "output_type": "execute_result"
    }
   ],
   "source": [
    "parChecker('[[{{(())}}]]')"
   ]
  },
  {
   "cell_type": "code",
   "execution_count": 24,
   "id": "ae4c1798",
   "metadata": {},
   "outputs": [
    {
     "data": {
      "text/plain": [
       "True"
      ]
     },
     "execution_count": 24,
     "metadata": {},
     "output_type": "execute_result"
    }
   ],
   "source": [
    "parChecker('[][][](){}')"
   ]
  },
  {
   "cell_type": "code",
   "execution_count": 25,
   "id": "cc474db9",
   "metadata": {},
   "outputs": [
    {
     "data": {
      "text/plain": [
       "False"
      ]
     },
     "execution_count": 25,
     "metadata": {},
     "output_type": "execute_result"
    }
   ],
   "source": [
    "parChecker('([)]')"
   ]
  },
  {
   "cell_type": "code",
   "execution_count": 26,
   "id": "1c8d019f",
   "metadata": {},
   "outputs": [
    {
     "data": {
      "text/plain": [
       "False"
      ]
     },
     "execution_count": 26,
     "metadata": {},
     "output_type": "execute_result"
    }
   ],
   "source": [
    "parChecker('((()]))')"
   ]
  },
  {
   "cell_type": "code",
   "execution_count": 27,
   "id": "0ca89cbf",
   "metadata": {},
   "outputs": [
    {
     "data": {
      "text/plain": [
       "False"
      ]
     },
     "execution_count": 27,
     "metadata": {},
     "output_type": "execute_result"
    }
   ],
   "source": [
    "parChecker('[{()]')"
   ]
  },
  {
   "cell_type": "markdown",
   "id": "a40f849f",
   "metadata": {},
   "source": [
    "### 1.1.6 将十进制数转换成二进制数"
   ]
  },
  {
   "cell_type": "code",
   "execution_count": 28,
   "id": "7711e3a5",
   "metadata": {},
   "outputs": [],
   "source": [
    "def divideBy2(decNumber):\n",
    "    remstack = Stack()\n",
    "    \n",
    "    while decNumber > 0:\n",
    "        rem = decNumber % 2\n",
    "        remstack.push(rem)\n",
    "        decNumber = decNumber // 2\n",
    "    \n",
    "    binString = ''\n",
    "    while not remstack.isEmpty():\n",
    "        binString = binString + str(remstack.pop())\n",
    "    \n",
    "    return binString"
   ]
  },
  {
   "cell_type": "code",
   "execution_count": 29,
   "id": "e0d401af",
   "metadata": {},
   "outputs": [
    {
     "data": {
      "text/plain": [
       "'11101001'"
      ]
     },
     "execution_count": 29,
     "metadata": {},
     "output_type": "execute_result"
    }
   ],
   "source": [
    "divideBy2(233)"
   ]
  },
  {
   "cell_type": "code",
   "execution_count": 30,
   "id": "9e13197c",
   "metadata": {},
   "outputs": [],
   "source": [
    "def baseConverter(decNumber, base):\n",
    "    digits = '0123456789ABCDEF'\n",
    "    \n",
    "    remstack = Stack()\n",
    "    \n",
    "    while decNumber > 0:\n",
    "        rem = decNumber % base\n",
    "        remstack.push(rem)\n",
    "        decNumber = decNumber // base\n",
    "    \n",
    "    newString = ''\n",
    "    while not remstack.isEmpty():\n",
    "        newString = newString + digits[remstack.pop()]\n",
    "    \n",
    "    return newString"
   ]
  },
  {
   "cell_type": "code",
   "execution_count": 31,
   "id": "a0d0cc38",
   "metadata": {},
   "outputs": [
    {
     "data": {
      "text/plain": [
       "'351'"
      ]
     },
     "execution_count": 31,
     "metadata": {},
     "output_type": "execute_result"
    }
   ],
   "source": [
    "baseConverter(233, 8)"
   ]
  },
  {
   "cell_type": "code",
   "execution_count": 32,
   "id": "ae226c69",
   "metadata": {},
   "outputs": [
    {
     "data": {
      "text/plain": [
       "'E9'"
      ]
     },
     "execution_count": 32,
     "metadata": {},
     "output_type": "execute_result"
    }
   ],
   "source": [
    "baseConverter(233, 16)"
   ]
  },
  {
   "cell_type": "markdown",
   "id": "c1c65e27",
   "metadata": {},
   "source": [
    "#### 1.1.7.1 从中序到后序的通用转换法"
   ]
  },
  {
   "cell_type": "code",
   "execution_count": 33,
   "id": "319d08c3",
   "metadata": {},
   "outputs": [],
   "source": [
    "import string\n",
    "\n",
    "def infixToPostfix(infixexpr):\n",
    "    prec = {}\n",
    "    prec['*'] = 3\n",
    "    prec['/'] = 3\n",
    "    prec['+'] = 2\n",
    "    prec['-'] = 2\n",
    "    prec['('] = 1\n",
    "    \n",
    "    opStack = Stack()\n",
    "    postfixList = []\n",
    "    \n",
    "    tokenList = infixexpr.split()\n",
    "    \n",
    "    for token in tokenList:\n",
    "        if token in string.ascii_uppercase:\n",
    "            postfixList.append(token)\n",
    "        elif token == '(':\n",
    "            opStack.push(token)\n",
    "        elif token == ')':\n",
    "            topToken = opStack.pop()\n",
    "            while topToken != '(':\n",
    "                postfixList.append(topToken)\n",
    "                topToken = opStack.pop()\n",
    "        else:\n",
    "            while (not opStack.isEmpty()) and (prec[opStack.peek()] >= prec[token]):\n",
    "                postfixList.append(opStack.pop())\n",
    "            opStack.push(token)\n",
    "    \n",
    "    while not opStack.isEmpty():\n",
    "        postfixList.append(opStack.pop())\n",
    "    \n",
    "    return ' '.join(postfixList)"
   ]
  },
  {
   "cell_type": "code",
   "execution_count": 34,
   "id": "999f8f75",
   "metadata": {},
   "outputs": [
    {
     "data": {
      "text/plain": [
       "'A B + C D + *'"
      ]
     },
     "execution_count": 34,
     "metadata": {},
     "output_type": "execute_result"
    }
   ],
   "source": [
    "infixToPostfix('( A + B ) * ( C + D )')"
   ]
  },
  {
   "cell_type": "code",
   "execution_count": 35,
   "id": "d8610010",
   "metadata": {},
   "outputs": [
    {
     "data": {
      "text/plain": [
       "'A B + C *'"
      ]
     },
     "execution_count": 35,
     "metadata": {},
     "output_type": "execute_result"
    }
   ],
   "source": [
    "infixToPostfix('( A + B ) * C')"
   ]
  },
  {
   "cell_type": "code",
   "execution_count": 36,
   "id": "dcf488ca",
   "metadata": {},
   "outputs": [
    {
     "data": {
      "text/plain": [
       "'A B C * +'"
      ]
     },
     "execution_count": 36,
     "metadata": {},
     "output_type": "execute_result"
    }
   ],
   "source": [
    "infixToPostfix('A + B * C')"
   ]
  },
  {
   "cell_type": "markdown",
   "id": "7b19da52",
   "metadata": {},
   "source": [
    "#### 1.1.7.2 计算后序表达式"
   ]
  },
  {
   "cell_type": "code",
   "execution_count": 37,
   "id": "85686395",
   "metadata": {},
   "outputs": [],
   "source": [
    "def postfixEval(postfixExpr):\n",
    "    operandStack = Stack()\n",
    "    \n",
    "    tokenList = postfixExpr.split()\n",
    "    \n",
    "    for token in tokenList:\n",
    "        if token in '0123456789':\n",
    "            operandStack.push(token)\n",
    "        else:\n",
    "            operand2 = operandStack.pop()\n",
    "            operand1 = operandStack.pop()\n",
    "            result = doMath(token, int(operand1), int(operand2))\n",
    "            operandStack.push(result)\n",
    "    \n",
    "    return operandStack.pop()\n",
    "\n",
    "def doMath(op, op1, op2):\n",
    "    if op == '*':\n",
    "        return op1 * op2\n",
    "    elif op == '/':\n",
    "        return op1 / op2\n",
    "    elif op == '+':\n",
    "        return op1 + op2\n",
    "    else:\n",
    "        return op1 - op2"
   ]
  },
  {
   "cell_type": "code",
   "execution_count": 38,
   "id": "0e9c950b",
   "metadata": {},
   "outputs": [
    {
     "data": {
      "text/plain": [
       "34"
      ]
     },
     "execution_count": 38,
     "metadata": {},
     "output_type": "execute_result"
    }
   ],
   "source": [
    "postfixEval('4 5 6 * +')"
   ]
  },
  {
   "cell_type": "code",
   "execution_count": 39,
   "id": "b9341e3d",
   "metadata": {},
   "outputs": [
    {
     "data": {
      "text/plain": [
       "3.0"
      ]
     },
     "execution_count": 39,
     "metadata": {},
     "output_type": "execute_result"
    }
   ],
   "source": [
    "postfixEval('7 8 + 3 2 + /')"
   ]
  },
  {
   "cell_type": "markdown",
   "id": "441c6960",
   "metadata": {},
   "source": [
    "### 1.2.3 用Python实现队列"
   ]
  },
  {
   "cell_type": "code",
   "execution_count": 40,
   "id": "25fe5f6c",
   "metadata": {},
   "outputs": [],
   "source": [
    "class Queue:\n",
    "    def __init__(self):\n",
    "        self.items = []\n",
    "    \n",
    "    def isEmpty(self):\n",
    "        return self.items == []\n",
    "    \n",
    "    def enqueue(self, item):\n",
    "        return self.items.insert(0, item)\n",
    "    \n",
    "    def dequeue(self):\n",
    "        return self.items.pop()\n",
    "    \n",
    "    def size(self):\n",
    "        return len(self.items)"
   ]
  },
  {
   "cell_type": "code",
   "execution_count": 41,
   "id": "4fac7268",
   "metadata": {},
   "outputs": [],
   "source": [
    "q = Queue() # 队列内容：[]"
   ]
  },
  {
   "cell_type": "code",
   "execution_count": 42,
   "id": "e508b369",
   "metadata": {},
   "outputs": [
    {
     "data": {
      "text/plain": [
       "True"
      ]
     },
     "execution_count": 42,
     "metadata": {},
     "output_type": "execute_result"
    }
   ],
   "source": [
    "q.isEmpty() # 队列内容：[]"
   ]
  },
  {
   "cell_type": "code",
   "execution_count": 43,
   "id": "e2d27bb0",
   "metadata": {},
   "outputs": [],
   "source": [
    "q.enqueue(4) # 队列内容：[4]"
   ]
  },
  {
   "cell_type": "code",
   "execution_count": 44,
   "id": "fbd59f61",
   "metadata": {},
   "outputs": [],
   "source": [
    "q.enqueue('dog') # 队列内容：['dog', 4]"
   ]
  },
  {
   "cell_type": "code",
   "execution_count": 45,
   "id": "8eb7a4ef",
   "metadata": {},
   "outputs": [],
   "source": [
    "q.enqueue(True) # 队列内容：[True, 'dog', 4]"
   ]
  },
  {
   "cell_type": "code",
   "execution_count": 46,
   "id": "59457dce",
   "metadata": {},
   "outputs": [
    {
     "data": {
      "text/plain": [
       "3"
      ]
     },
     "execution_count": 46,
     "metadata": {},
     "output_type": "execute_result"
    }
   ],
   "source": [
    "q.size() # 队列内容：[True, 'dog', 4]"
   ]
  },
  {
   "cell_type": "code",
   "execution_count": 47,
   "id": "fdb42761",
   "metadata": {},
   "outputs": [
    {
     "data": {
      "text/plain": [
       "False"
      ]
     },
     "execution_count": 47,
     "metadata": {},
     "output_type": "execute_result"
    }
   ],
   "source": [
    "q.isEmpty() # 队列内容：[True, 'dog', 4]"
   ]
  },
  {
   "cell_type": "code",
   "execution_count": 48,
   "id": "868226fa",
   "metadata": {},
   "outputs": [],
   "source": [
    "q.enqueue(8.4) # 队列内容：[8.4, True, 'dog', 4]"
   ]
  },
  {
   "cell_type": "code",
   "execution_count": 49,
   "id": "3f1a6df7",
   "metadata": {},
   "outputs": [
    {
     "data": {
      "text/plain": [
       "4"
      ]
     },
     "execution_count": 49,
     "metadata": {},
     "output_type": "execute_result"
    }
   ],
   "source": [
    "q.dequeue() # 队列内容：[8.4, True, 'dog']"
   ]
  },
  {
   "cell_type": "code",
   "execution_count": 50,
   "id": "6b7936d8",
   "metadata": {},
   "outputs": [
    {
     "data": {
      "text/plain": [
       "'dog'"
      ]
     },
     "execution_count": 50,
     "metadata": {},
     "output_type": "execute_result"
    }
   ],
   "source": [
    "q.dequeue() # 队列内容：[8.4, True]"
   ]
  },
  {
   "cell_type": "code",
   "execution_count": 51,
   "id": "c33f3c90",
   "metadata": {},
   "outputs": [
    {
     "data": {
      "text/plain": [
       "2"
      ]
     },
     "execution_count": 51,
     "metadata": {},
     "output_type": "execute_result"
    }
   ],
   "source": [
    "q.size() # 队列内容：[8.4, True]"
   ]
  },
  {
   "cell_type": "markdown",
   "id": "efd5ce05",
   "metadata": {},
   "source": [
    "### 1.2.4 模拟：传土豆"
   ]
  },
  {
   "cell_type": "code",
   "execution_count": 52,
   "id": "fab6b92c",
   "metadata": {},
   "outputs": [],
   "source": [
    "def hotPotato(namelist, num):\n",
    "    simqueue = Queue()\n",
    "    for name in namelist:\n",
    "        simqueue.enqueue(name)\n",
    "    \n",
    "    while simqueue.size() > 1:\n",
    "        for i in range(num):\n",
    "            simqueue.enqueue(simqueue.dequeue())\n",
    "        \n",
    "        simqueue.dequeue()\n",
    "    \n",
    "    return simqueue.dequeue()"
   ]
  },
  {
   "cell_type": "code",
   "execution_count": 53,
   "id": "0b6d7dc9",
   "metadata": {},
   "outputs": [
    {
     "data": {
      "text/plain": [
       "'Susan'"
      ]
     },
     "execution_count": 53,
     "metadata": {},
     "output_type": "execute_result"
    }
   ],
   "source": [
    "hotPotato(['Bill', 'David', 'Susan', 'Jane', 'Kent', 'Brad'], 7)"
   ]
  },
  {
   "cell_type": "markdown",
   "id": "cebee50f",
   "metadata": {},
   "source": [
    "### 1.3.3 用Python实现双端队列"
   ]
  },
  {
   "cell_type": "code",
   "execution_count": 54,
   "id": "39a6ec5b",
   "metadata": {},
   "outputs": [],
   "source": [
    "class Deque:\n",
    "    def __init__(self):\n",
    "        self.items = []\n",
    "    \n",
    "    def isEmpty(self):\n",
    "        return self.items == []\n",
    "    \n",
    "    def addFront(self, item):\n",
    "        self.items.append(item)\n",
    "    \n",
    "    def addRear(self, item):\n",
    "        return self.items.insert(0, item)\n",
    "    \n",
    "    def removeFront(self):\n",
    "        return self.items.pop()\n",
    "    \n",
    "    def removeRear(self):\n",
    "        return self.items.pop(0)\n",
    "    \n",
    "    def size(self):\n",
    "        return len(self.items)"
   ]
  },
  {
   "cell_type": "code",
   "execution_count": 55,
   "id": "958554dd",
   "metadata": {},
   "outputs": [],
   "source": [
    "d = Deque() # 双端队列内容：[]"
   ]
  },
  {
   "cell_type": "code",
   "execution_count": 56,
   "id": "fb3d8b16",
   "metadata": {},
   "outputs": [
    {
     "data": {
      "text/plain": [
       "True"
      ]
     },
     "execution_count": 56,
     "metadata": {},
     "output_type": "execute_result"
    }
   ],
   "source": [
    "d.isEmpty() # 双端队列内容：[]"
   ]
  },
  {
   "cell_type": "code",
   "execution_count": 57,
   "id": "2e098f90",
   "metadata": {},
   "outputs": [],
   "source": [
    "d.addRear(4) # 双端队列内容：[4]"
   ]
  },
  {
   "cell_type": "code",
   "execution_count": 58,
   "id": "1549b90d",
   "metadata": {},
   "outputs": [],
   "source": [
    "d.addRear('dog') # 双端队列内容：['dog', 4]"
   ]
  },
  {
   "cell_type": "code",
   "execution_count": 59,
   "id": "c4fc96ae",
   "metadata": {},
   "outputs": [],
   "source": [
    "d.addFront('cat') # 双端队列内容：['dog', 4, 'cat']"
   ]
  },
  {
   "cell_type": "code",
   "execution_count": 60,
   "id": "e98f3fb5",
   "metadata": {},
   "outputs": [],
   "source": [
    "d.addFront(True) # 双端队列内容：['dog', 4, 'cat', True]"
   ]
  },
  {
   "cell_type": "code",
   "execution_count": 61,
   "id": "66a87236",
   "metadata": {},
   "outputs": [
    {
     "data": {
      "text/plain": [
       "4"
      ]
     },
     "execution_count": 61,
     "metadata": {},
     "output_type": "execute_result"
    }
   ],
   "source": [
    "d.size() # 双端队列内容：['dog', 4, 'cat', True]"
   ]
  },
  {
   "cell_type": "code",
   "execution_count": 62,
   "id": "cdf1053d",
   "metadata": {},
   "outputs": [
    {
     "data": {
      "text/plain": [
       "False"
      ]
     },
     "execution_count": 62,
     "metadata": {},
     "output_type": "execute_result"
    }
   ],
   "source": [
    "d.isEmpty() # 双端队列内容：['dog', 4, 'cat', True]"
   ]
  },
  {
   "cell_type": "code",
   "execution_count": 63,
   "id": "bf71488a",
   "metadata": {},
   "outputs": [],
   "source": [
    "d.addRear(8.4) # 双端队列内容：[8.4, 'dog', 4, 'cat', True]"
   ]
  },
  {
   "cell_type": "code",
   "execution_count": 64,
   "id": "837cc639",
   "metadata": {},
   "outputs": [
    {
     "data": {
      "text/plain": [
       "8.4"
      ]
     },
     "execution_count": 64,
     "metadata": {},
     "output_type": "execute_result"
    }
   ],
   "source": [
    "d.removeRear() # 双端队列内容：['dog', 4, 'cat', True]"
   ]
  },
  {
   "cell_type": "code",
   "execution_count": 65,
   "id": "e6fd7121",
   "metadata": {},
   "outputs": [
    {
     "data": {
      "text/plain": [
       "True"
      ]
     },
     "execution_count": 65,
     "metadata": {},
     "output_type": "execute_result"
    }
   ],
   "source": [
    "d.removeFront() # 双端队列内容：['dog', 4, 'cat']"
   ]
  },
  {
   "cell_type": "markdown",
   "id": "5bb0287e",
   "metadata": {},
   "source": [
    "### 1.3.4 回文检测器"
   ]
  },
  {
   "cell_type": "code",
   "execution_count": 66,
   "id": "9a0c02f2",
   "metadata": {},
   "outputs": [],
   "source": [
    "def palchecker(aString):\n",
    "    chardeque = Deque()\n",
    "    \n",
    "    for ch in aString:\n",
    "        chardeque.addRear(ch)\n",
    "    \n",
    "    stillEqual = True\n",
    "    \n",
    "    while chardeque.size() > 1 and stillEqual:\n",
    "        first = chardeque.removeFront()\n",
    "        last = chardeque.removeRear()\n",
    "        if first != last:\n",
    "            stillEqual = False\n",
    "    \n",
    "    return stillEqual"
   ]
  },
  {
   "cell_type": "code",
   "execution_count": 67,
   "id": "4df9dd62",
   "metadata": {},
   "outputs": [
    {
     "data": {
      "text/plain": [
       "False"
      ]
     },
     "execution_count": 67,
     "metadata": {},
     "output_type": "execute_result"
    }
   ],
   "source": [
    "palchecker('lsdkjfskf')"
   ]
  },
  {
   "cell_type": "code",
   "execution_count": 68,
   "id": "9f4d58bf",
   "metadata": {},
   "outputs": [
    {
     "data": {
      "text/plain": [
       "True"
      ]
     },
     "execution_count": 68,
     "metadata": {},
     "output_type": "execute_result"
    }
   ],
   "source": [
    "palchecker('toot')"
   ]
  },
  {
   "cell_type": "markdown",
   "id": "7bb34a52",
   "metadata": {},
   "source": [
    "### 1.4.2 实现无序列表：链表"
   ]
  },
  {
   "cell_type": "code",
   "execution_count": 69,
   "id": "9533f093",
   "metadata": {},
   "outputs": [],
   "source": [
    "class Node:\n",
    "    def __init__(self, initdata):\n",
    "        self.data = initdata\n",
    "        self.next = None\n",
    "    \n",
    "    def getData(self):\n",
    "        return self.data\n",
    "    \n",
    "    def getNext(self):\n",
    "        return self.next\n",
    "    \n",
    "    def setData(self, newdata):\n",
    "        self.data = newdata\n",
    "    \n",
    "    def setNext(self, newnext):\n",
    "        self.next = newnext"
   ]
  },
  {
   "cell_type": "code",
   "execution_count": 70,
   "id": "cd358728",
   "metadata": {},
   "outputs": [],
   "source": [
    "temp = Node(93)"
   ]
  },
  {
   "cell_type": "code",
   "execution_count": 71,
   "id": "eab32c0f",
   "metadata": {},
   "outputs": [
    {
     "data": {
      "text/plain": [
       "93"
      ]
     },
     "execution_count": 71,
     "metadata": {},
     "output_type": "execute_result"
    }
   ],
   "source": [
    "temp.getData()"
   ]
  },
  {
   "cell_type": "code",
   "execution_count": 72,
   "id": "9824cb6b",
   "metadata": {},
   "outputs": [],
   "source": [
    "class UnorderedList:\n",
    "    def __init__(self):\n",
    "        self.head = None\n",
    "    \n",
    "    def isEmpty(self):\n",
    "        return self.head == None\n",
    "    \n",
    "    def add(self, item):\n",
    "        temp = Node(item)\n",
    "        temp.setNext(self.head) # 将新节点的next引用指向当前列表中的第一个节点\n",
    "        self.head = temp # 修改列表的头节点，使其指向新创建的节点\n",
    "    \n",
    "    def length(self):\n",
    "        current = self.head\n",
    "        count = 0\n",
    "        while current != None:\n",
    "            count += 1\n",
    "            current = current.getNext()\n",
    "        \n",
    "        return count\n",
    "    \n",
    "    def search(self, item):\n",
    "        current = self.head\n",
    "        found = False\n",
    "        while current != None and not found:\n",
    "            if current.getData() == item:\n",
    "                found = True\n",
    "            else:\n",
    "                current = current.getNext()\n",
    "        \n",
    "        return found\n",
    "    \n",
    "    def remove(self, item):\n",
    "        current = self.head\n",
    "        previous = None\n",
    "        found = False\n",
    "        while not found:\n",
    "            if current.getData() == item:\n",
    "                found = True\n",
    "            else:\n",
    "                previous = current\n",
    "                current = current.getNext()\n",
    "        \n",
    "        if previous == None:\n",
    "            self.head = current.getNext()\n",
    "        else:\n",
    "            previous.setNext(current.getNext())"
   ]
  },
  {
   "cell_type": "code",
   "execution_count": 73,
   "id": "535faf23",
   "metadata": {},
   "outputs": [],
   "source": [
    "mylist = UnorderedList()"
   ]
  },
  {
   "cell_type": "code",
   "execution_count": 74,
   "id": "df2308b8",
   "metadata": {},
   "outputs": [
    {
     "data": {
      "text/plain": [
       "True"
      ]
     },
     "execution_count": 74,
     "metadata": {},
     "output_type": "execute_result"
    }
   ],
   "source": [
    "mylist.isEmpty()"
   ]
  },
  {
   "cell_type": "code",
   "execution_count": 75,
   "id": "3b3d5ddd",
   "metadata": {},
   "outputs": [],
   "source": [
    "mylist.add(31)"
   ]
  },
  {
   "cell_type": "code",
   "execution_count": 76,
   "id": "cc6f6d40",
   "metadata": {},
   "outputs": [],
   "source": [
    "mylist.add(77)"
   ]
  },
  {
   "cell_type": "code",
   "execution_count": 77,
   "id": "5c9e971b",
   "metadata": {},
   "outputs": [],
   "source": [
    "mylist.add(17)"
   ]
  },
  {
   "cell_type": "code",
   "execution_count": 78,
   "id": "6573b4e4",
   "metadata": {},
   "outputs": [],
   "source": [
    "mylist.add(93)"
   ]
  },
  {
   "cell_type": "code",
   "execution_count": 79,
   "id": "4ff31afc",
   "metadata": {},
   "outputs": [],
   "source": [
    "mylist.add(26)"
   ]
  },
  {
   "cell_type": "code",
   "execution_count": 80,
   "id": "120be870",
   "metadata": {},
   "outputs": [],
   "source": [
    "mylist.add(54)"
   ]
  },
  {
   "cell_type": "code",
   "execution_count": 81,
   "id": "1c55961d",
   "metadata": {},
   "outputs": [
    {
     "data": {
      "text/plain": [
       "False"
      ]
     },
     "execution_count": 81,
     "metadata": {},
     "output_type": "execute_result"
    }
   ],
   "source": [
    "mylist.isEmpty()"
   ]
  },
  {
   "cell_type": "code",
   "execution_count": 82,
   "id": "7b2e97e7",
   "metadata": {},
   "outputs": [
    {
     "data": {
      "text/plain": [
       "6"
      ]
     },
     "execution_count": 82,
     "metadata": {},
     "output_type": "execute_result"
    }
   ],
   "source": [
    "mylist.length()"
   ]
  },
  {
   "cell_type": "code",
   "execution_count": 83,
   "id": "828aff94",
   "metadata": {},
   "outputs": [
    {
     "data": {
      "text/plain": [
       "True"
      ]
     },
     "execution_count": 83,
     "metadata": {},
     "output_type": "execute_result"
    }
   ],
   "source": [
    "mylist.search(17)"
   ]
  },
  {
   "cell_type": "code",
   "execution_count": 84,
   "id": "e67b092c",
   "metadata": {},
   "outputs": [
    {
     "data": {
      "text/plain": [
       "False"
      ]
     },
     "execution_count": 84,
     "metadata": {},
     "output_type": "execute_result"
    }
   ],
   "source": [
    "mylist.search(66)"
   ]
  },
  {
   "cell_type": "code",
   "execution_count": 85,
   "id": "b6d756c2",
   "metadata": {},
   "outputs": [],
   "source": [
    "mylist.remove(26)"
   ]
  },
  {
   "cell_type": "code",
   "execution_count": 86,
   "id": "6112c8a7",
   "metadata": {},
   "outputs": [
    {
     "data": {
      "text/plain": [
       "5"
      ]
     },
     "execution_count": 86,
     "metadata": {},
     "output_type": "execute_result"
    }
   ],
   "source": [
    "mylist.length()"
   ]
  },
  {
   "cell_type": "markdown",
   "id": "5d997b15",
   "metadata": {},
   "source": [
    "### 1.4.4 实现有序列表"
   ]
  },
  {
   "cell_type": "code",
   "execution_count": 87,
   "id": "91faaf67",
   "metadata": {},
   "outputs": [],
   "source": [
    "class OrderedList:\n",
    "    def __init__(self):\n",
    "        self.head = None\n",
    "    \n",
    "    def isEmpty(self):\n",
    "        return self.head == None\n",
    "    \n",
    "    def add(self, item):\n",
    "        current = self.head\n",
    "        previous = None\n",
    "        stop = False\n",
    "        while current != None and not stop:\n",
    "            if current.getData() > item:\n",
    "                stop = True\n",
    "            else:\n",
    "                previous = current\n",
    "                current = current.getNext()\n",
    "        \n",
    "        temp = Node(item)\n",
    "        if previous == None:\n",
    "            temp.setNext(self.head)\n",
    "            self.head = temp\n",
    "        else:\n",
    "            temp.setNext(current)\n",
    "            previous.setNext = temp\n",
    "    \n",
    "    def length(self):\n",
    "        current = self.head\n",
    "        count = 0\n",
    "        while current != None:\n",
    "            count += 1\n",
    "            current = current.getNext()\n",
    "        \n",
    "        return count\n",
    "    \n",
    "    def search(self, item):\n",
    "        current = self.head\n",
    "        found = False\n",
    "        stop = False\n",
    "        while current != None and not found and not stop:\n",
    "            if current.getData() == item:\n",
    "                found = True\n",
    "            else:\n",
    "                if current.getData() > item:\n",
    "                    stop = True\n",
    "                else:\n",
    "                    current = current.getNext()\n",
    "        \n",
    "        return found\n",
    "    \n",
    "    def remove(self, item):\n",
    "        current = self.head\n",
    "        previous = None\n",
    "        found = False\n",
    "        while not found:\n",
    "            if current.getData() == item:\n",
    "                found = True\n",
    "            else:\n",
    "                previous = current\n",
    "                current = current.getNext()\n",
    "        \n",
    "        if previous == None:\n",
    "            self.head = current.getNext()\n",
    "        else:\n",
    "            previous.setNext(current.getNext())"
   ]
  },
  {
   "cell_type": "code",
   "execution_count": null,
   "id": "e0e5fcc9",
   "metadata": {},
   "outputs": [],
   "source": []
  }
 ],
 "metadata": {
  "kernelspec": {
   "display_name": "Python 3 (ipykernel)",
   "language": "python",
   "name": "python3"
  },
  "language_info": {
   "codemirror_mode": {
    "name": "ipython",
    "version": 3
   },
   "file_extension": ".py",
   "mimetype": "text/x-python",
   "name": "python",
   "nbconvert_exporter": "python",
   "pygments_lexer": "ipython3",
   "version": "3.8.9"
  }
 },
 "nbformat": 4,
 "nbformat_minor": 5
}
