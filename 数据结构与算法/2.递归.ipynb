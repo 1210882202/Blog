{
 "cells": [
  {
   "cell_type": "markdown",
   "id": "1f587fea",
   "metadata": {},
   "source": [
    "### 2.1.1 计算一列数之和"
   ]
  },
  {
   "cell_type": "code",
   "execution_count": 1,
   "id": "8a1382b4",
   "metadata": {},
   "outputs": [],
   "source": [
    "def listsum(numList):\n",
    "    theSum = 0\n",
    "    for i in numList:\n",
    "        theSum += i\n",
    "    return theSum"
   ]
  },
  {
   "cell_type": "code",
   "execution_count": 2,
   "id": "1c548fcf",
   "metadata": {},
   "outputs": [
    {
     "data": {
      "text/plain": [
       "25"
      ]
     },
     "execution_count": 2,
     "metadata": {},
     "output_type": "execute_result"
    }
   ],
   "source": [
    "listsum([1, 3, 5, 7, 9])"
   ]
  },
  {
   "cell_type": "code",
   "execution_count": 3,
   "id": "4364b50d",
   "metadata": {},
   "outputs": [],
   "source": [
    "def listsum(numList):\n",
    "    if len(numList) == 1:\n",
    "        return numList[0]\n",
    "    else:\n",
    "        return numList[0] + listsum(numList[1:])"
   ]
  },
  {
   "cell_type": "code",
   "execution_count": 4,
   "id": "3ceb1257",
   "metadata": {},
   "outputs": [
    {
     "data": {
      "text/plain": [
       "25"
      ]
     },
     "execution_count": 4,
     "metadata": {},
     "output_type": "execute_result"
    }
   ],
   "source": [
    "listsum([1, 3, 5, 7, 9])"
   ]
  },
  {
   "cell_type": "markdown",
   "id": "efdeeed1",
   "metadata": {},
   "source": [
    "### 2.1.3 将整数转换成任意进制的字符串"
   ]
  },
  {
   "cell_type": "code",
   "execution_count": 5,
   "id": "149432ed",
   "metadata": {},
   "outputs": [],
   "source": [
    "def toStr(n, base):\n",
    "    convertString = '0123456789ABCDEF'\n",
    "    if n < base:\n",
    "        return convertString[n]\n",
    "    else:\n",
    "        return toStr(n//base, base) + convertString[n%base]"
   ]
  },
  {
   "cell_type": "code",
   "execution_count": 6,
   "id": "51a88d11",
   "metadata": {},
   "outputs": [
    {
     "data": {
      "text/plain": [
       "'769'"
      ]
     },
     "execution_count": 6,
     "metadata": {},
     "output_type": "execute_result"
    }
   ],
   "source": [
    "toStr(769, 10)"
   ]
  },
  {
   "cell_type": "code",
   "execution_count": 7,
   "id": "bb8ea858",
   "metadata": {},
   "outputs": [
    {
     "data": {
      "text/plain": [
       "'1010'"
      ]
     },
     "execution_count": 7,
     "metadata": {},
     "output_type": "execute_result"
    }
   ],
   "source": [
    "toStr(10, 2)"
   ]
  },
  {
   "cell_type": "markdown",
   "id": "245665f1",
   "metadata": {},
   "source": [
    "## 2.2 复杂的递归问题（汉诺塔）"
   ]
  },
  {
   "cell_type": "code",
   "execution_count": 8,
   "id": "c4785b7f",
   "metadata": {},
   "outputs": [],
   "source": [
    "def moveTower(height, fromPole, withPole, toPole):\n",
    "    if height >= 1:\n",
    "        moveTower(height-1, fromPole, toPole, withPole)\n",
    "        moveDisk(height, fromPole, toPole)\n",
    "        moveTower(height-1, withPole, fromPole, toPole)\n",
    "\n",
    "def moveDisk(disk, fromPole, toPole):\n",
    "    print(f'moving disk{disk} from {fromPole} to {toPole}')"
   ]
  },
  {
   "cell_type": "code",
   "execution_count": 9,
   "id": "e3e2fc0a",
   "metadata": {},
   "outputs": [
    {
     "name": "stdout",
     "output_type": "stream",
     "text": [
      "moving disk1 from #1 to #3\n"
     ]
    }
   ],
   "source": [
    "moveTower(1, '#1', '#2', '#3')"
   ]
  },
  {
   "cell_type": "code",
   "execution_count": 10,
   "id": "f8199542",
   "metadata": {},
   "outputs": [
    {
     "name": "stdout",
     "output_type": "stream",
     "text": [
      "moving disk1 from #1 to #2\n",
      "moving disk2 from #1 to #3\n",
      "moving disk1 from #2 to #3\n"
     ]
    }
   ],
   "source": [
    "moveTower(2, '#1', '#2', '#3')"
   ]
  },
  {
   "cell_type": "code",
   "execution_count": 11,
   "id": "ce425ff9",
   "metadata": {},
   "outputs": [
    {
     "name": "stdout",
     "output_type": "stream",
     "text": [
      "moving disk1 from #1 to #3\n",
      "moving disk2 from #1 to #2\n",
      "moving disk1 from #3 to #2\n",
      "moving disk3 from #1 to #3\n",
      "moving disk1 from #2 to #1\n",
      "moving disk2 from #2 to #3\n",
      "moving disk1 from #1 to #3\n"
     ]
    }
   ],
   "source": [
    "moveTower(3, '#1', '#2', '#3')"
   ]
  },
  {
   "cell_type": "code",
   "execution_count": null,
   "id": "15f3cb2a",
   "metadata": {},
   "outputs": [],
   "source": []
  }
 ],
 "metadata": {
  "kernelspec": {
   "display_name": "Python 3 (ipykernel)",
   "language": "python",
   "name": "python3"
  },
  "language_info": {
   "codemirror_mode": {
    "name": "ipython",
    "version": 3
   },
   "file_extension": ".py",
   "mimetype": "text/x-python",
   "name": "python",
   "nbconvert_exporter": "python",
   "pygments_lexer": "ipython3",
   "version": "3.8.9"
  }
 },
 "nbformat": 4,
 "nbformat_minor": 5
}
